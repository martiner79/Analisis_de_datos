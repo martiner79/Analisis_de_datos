{
 "cells": [
  {
   "cell_type": "code",
   "execution_count": 1,
   "metadata": {},
   "outputs": [],
   "source": [
    "import pandas as pd\n"
   ]
  },
  {
   "cell_type": "code",
   "execution_count": 3,
   "metadata": {},
   "outputs": [
    {
     "data": {
      "text/html": [
       "<div>\n",
       "<style scoped>\n",
       "    .dataframe tbody tr th:only-of-type {\n",
       "        vertical-align: middle;\n",
       "    }\n",
       "\n",
       "    .dataframe tbody tr th {\n",
       "        vertical-align: top;\n",
       "    }\n",
       "\n",
       "    .dataframe thead th {\n",
       "        text-align: right;\n",
       "    }\n",
       "</style>\n",
       "<table border=\"1\" class=\"dataframe\">\n",
       "  <thead>\n",
       "    <tr style=\"text-align: right;\">\n",
       "      <th></th>\n",
       "      <th>Nombre y Apellido</th>\n",
       "      <th>Edad</th>\n",
       "      <th>País</th>\n",
       "      <th>Experiencia</th>\n",
       "    </tr>\n",
       "  </thead>\n",
       "  <tbody>\n",
       "    <tr>\n",
       "      <th>0</th>\n",
       "      <td>Lucas Delgado</td>\n",
       "      <td>23</td>\n",
       "      <td>México</td>\n",
       "      <td>No</td>\n",
       "    </tr>\n",
       "    <tr>\n",
       "      <th>1</th>\n",
       "      <td>Pedro Ferreyra</td>\n",
       "      <td>18</td>\n",
       "      <td>Honduras</td>\n",
       "      <td>Si</td>\n",
       "    </tr>\n",
       "    <tr>\n",
       "      <th>2</th>\n",
       "      <td>Maria Lourdes</td>\n",
       "      <td>18</td>\n",
       "      <td>Perú</td>\n",
       "      <td>Si</td>\n",
       "    </tr>\n",
       "    <tr>\n",
       "      <th>3</th>\n",
       "      <td>Laura Soto</td>\n",
       "      <td>42</td>\n",
       "      <td>Argentina</td>\n",
       "      <td>No</td>\n",
       "    </tr>\n",
       "    <tr>\n",
       "      <th>4</th>\n",
       "      <td>Mario Vanegas</td>\n",
       "      <td>30</td>\n",
       "      <td>México</td>\n",
       "      <td>Si</td>\n",
       "    </tr>\n",
       "  </tbody>\n",
       "</table>\n",
       "</div>"
      ],
      "text/plain": [
       "  Nombre y Apellido  Edad       País Experiencia\n",
       "0     Lucas Delgado    23     México          No\n",
       "1    Pedro Ferreyra    18   Honduras          Si\n",
       "2     Maria Lourdes    18       Perú          Si\n",
       "3        Laura Soto    42  Argentina          No\n",
       "4     Mario Vanegas    30     México          Si"
      ]
     },
     "execution_count": 3,
     "metadata": {},
     "output_type": "execute_result"
    }
   ],
   "source": [
    "df = pd.read_csv(\"dataframe.csv\")\n",
    "df"
   ]
  },
  {
   "cell_type": "code",
   "execution_count": 12,
   "metadata": {},
   "outputs": [
    {
     "data": {
      "text/html": [
       "<div>\n",
       "<style scoped>\n",
       "    .dataframe tbody tr th:only-of-type {\n",
       "        vertical-align: middle;\n",
       "    }\n",
       "\n",
       "    .dataframe tbody tr th {\n",
       "        vertical-align: top;\n",
       "    }\n",
       "\n",
       "    .dataframe thead th {\n",
       "        text-align: right;\n",
       "    }\n",
       "</style>\n",
       "<table border=\"1\" class=\"dataframe\">\n",
       "  <thead>\n",
       "    <tr style=\"text-align: right;\">\n",
       "      <th></th>\n",
       "      <th>Nombre y Apellido</th>\n",
       "      <th>Edad</th>\n",
       "    </tr>\n",
       "  </thead>\n",
       "  <tbody>\n",
       "    <tr>\n",
       "      <th>0</th>\n",
       "      <td>Lucas Delgado</td>\n",
       "      <td>23</td>\n",
       "    </tr>\n",
       "    <tr>\n",
       "      <th>1</th>\n",
       "      <td>Pedro Ferreyra</td>\n",
       "      <td>18</td>\n",
       "    </tr>\n",
       "    <tr>\n",
       "      <th>2</th>\n",
       "      <td>Maria Lourdes</td>\n",
       "      <td>34</td>\n",
       "    </tr>\n",
       "    <tr>\n",
       "      <th>3</th>\n",
       "      <td>Laura Soto</td>\n",
       "      <td>19</td>\n",
       "    </tr>\n",
       "    <tr>\n",
       "      <th>4</th>\n",
       "      <td>Mario Vanegas</td>\n",
       "      <td>30</td>\n",
       "    </tr>\n",
       "  </tbody>\n",
       "</table>\n",
       "</div>"
      ],
      "text/plain": [
       "  Nombre y Apellido  Edad\n",
       "0     Lucas Delgado    23\n",
       "1    Pedro Ferreyra    18\n",
       "2     Maria Lourdes    34\n",
       "3        Laura Soto    19\n",
       "4     Mario Vanegas    30"
      ]
     },
     "execution_count": 12,
     "metadata": {},
     "output_type": "execute_result"
    }
   ],
   "source": [
    "df.Edad\n",
    "df['Nombre y Apellido']\n",
    "df[['Nombre y Apellido','Edad']]"
   ]
  },
  {
   "cell_type": "code",
   "execution_count": 17,
   "metadata": {},
   "outputs": [],
   "source": [
    "#Forma EXCEL: test = pd.read_excel(\"file.xmlx\",\"COLUMNA/ÍNDICE\")\n",
    "#Formato JSON: test = pd.read_json(\"file.json\")\n",
    "#Formato CSV: df = pd.read_csv(\"PATH/file.csv\")"
   ]
  },
  {
   "cell_type": "code",
   "execution_count": 4,
   "metadata": {},
   "outputs": [
    {
     "data": {
      "text/plain": [
       "4"
      ]
     },
     "execution_count": 4,
     "metadata": {},
     "output_type": "execute_result"
    }
   ],
   "source": [
    "#Verificar Filas y Columnas con SHAPE\n",
    "df.shape\n",
    "\n",
    "#Solo Filas\n",
    "df.shape[0]\n",
    "\n",
    "#Solo columnas\n",
    "df.shape[1]\n",
    "\n"
   ]
  },
  {
   "cell_type": "code",
   "execution_count": 30,
   "metadata": {},
   "outputs": [
    {
     "data": {
      "text/html": [
       "<div>\n",
       "<style scoped>\n",
       "    .dataframe tbody tr th:only-of-type {\n",
       "        vertical-align: middle;\n",
       "    }\n",
       "\n",
       "    .dataframe tbody tr th {\n",
       "        vertical-align: top;\n",
       "    }\n",
       "\n",
       "    .dataframe thead th {\n",
       "        text-align: right;\n",
       "    }\n",
       "</style>\n",
       "<table border=\"1\" class=\"dataframe\">\n",
       "  <thead>\n",
       "    <tr style=\"text-align: right;\">\n",
       "      <th></th>\n",
       "      <th>Fecha</th>\n",
       "      <th>Apertura</th>\n",
       "      <th>Alto</th>\n",
       "      <th>Bajo</th>\n",
       "      <th>Cierre</th>\n",
       "      <th>Adj cierre</th>\n",
       "      <th>Volumen</th>\n",
       "    </tr>\n",
       "  </thead>\n",
       "  <tbody>\n",
       "    <tr>\n",
       "      <th>4626</th>\n",
       "      <td>2018-05-22</td>\n",
       "      <td>273.959991</td>\n",
       "      <td>274.250000</td>\n",
       "      <td>272.239990</td>\n",
       "      <td>272.609985</td>\n",
       "      <td>272.609985</td>\n",
       "      <td>52966400</td>\n",
       "    </tr>\n",
       "    <tr>\n",
       "      <th>4627</th>\n",
       "      <td>2018-05-23</td>\n",
       "      <td>271.170013</td>\n",
       "      <td>273.390015</td>\n",
       "      <td>270.989990</td>\n",
       "      <td>273.359985</td>\n",
       "      <td>273.359985</td>\n",
       "      <td>61021700</td>\n",
       "    </tr>\n",
       "    <tr>\n",
       "      <th>4628</th>\n",
       "      <td>2018-05-24</td>\n",
       "      <td>272.910004</td>\n",
       "      <td>273.220001</td>\n",
       "      <td>270.779999</td>\n",
       "      <td>272.799988</td>\n",
       "      <td>272.799988</td>\n",
       "      <td>76043800</td>\n",
       "    </tr>\n",
       "    <tr>\n",
       "      <th>4629</th>\n",
       "      <td>2018-05-25</td>\n",
       "      <td>272.149994</td>\n",
       "      <td>272.859985</td>\n",
       "      <td>271.579987</td>\n",
       "      <td>272.149994</td>\n",
       "      <td>272.149994</td>\n",
       "      <td>54842200</td>\n",
       "    </tr>\n",
       "  </tbody>\n",
       "</table>\n",
       "</div>"
      ],
      "text/plain": [
       "           Fecha    Apertura        Alto        Bajo      Cierre  Adj cierre  \\\n",
       "4626  2018-05-22  273.959991  274.250000  272.239990  272.609985  272.609985   \n",
       "4627  2018-05-23  271.170013  273.390015  270.989990  273.359985  273.359985   \n",
       "4628  2018-05-24  272.910004  273.220001  270.779999  272.799988  272.799988   \n",
       "4629  2018-05-25  272.149994  272.859985  271.579987  272.149994  272.149994   \n",
       "\n",
       "       Volumen  \n",
       "4626  52966400  \n",
       "4627  61021700  \n",
       "4628  76043800  \n",
       "4629  54842200  "
      ]
     },
     "execution_count": 30,
     "metadata": {},
     "output_type": "execute_result"
    }
   ],
   "source": [
    "#Ver los primeros y últimos datos\n",
    "\n",
    "data = pd.read_csv(\"datos.csv\")\n",
    "data\n",
    "\n",
    "#Ver los primeros 4\n",
    "data.head(4)\n",
    "\n",
    "#Ver los últimos 4\n",
    "data.tail(4)"
   ]
  },
  {
   "cell_type": "code",
   "execution_count": 33,
   "metadata": {},
   "outputs": [
    {
     "name": "stdout",
     "output_type": "stream",
     "text": [
      "<class 'pandas.core.frame.DataFrame'>\n",
      "RangeIndex: 5 entries, 0 to 4\n",
      "Data columns (total 4 columns):\n",
      " #   Column             Non-Null Count  Dtype \n",
      "---  ------             --------------  ----- \n",
      " 0   Nombre y Apellido  5 non-null      object\n",
      " 1   Edad               5 non-null      int64 \n",
      " 2   Pais               5 non-null      object\n",
      " 3   Experiencia        5 non-null      object\n",
      "dtypes: int64(1), object(3)\n",
      "memory usage: 292.0+ bytes\n"
     ]
    }
   ],
   "source": [
    "#Información sobre los tipos de datos de nuestro archivo\n",
    "\n",
    "df.info()\n"
   ]
  },
  {
   "cell_type": "code",
   "execution_count": null,
   "metadata": {},
   "outputs": [],
   "source": []
  }
 ],
 "metadata": {
  "kernelspec": {
   "display_name": "Python 3",
   "language": "python",
   "name": "python3"
  },
  "language_info": {
   "codemirror_mode": {
    "name": "ipython",
    "version": 3
   },
   "file_extension": ".py",
   "mimetype": "text/x-python",
   "name": "python",
   "nbconvert_exporter": "python",
   "pygments_lexer": "ipython3",
   "version": "3.11.2"
  },
  "orig_nbformat": 4
 },
 "nbformat": 4,
 "nbformat_minor": 2
}
